{
 "cells": [
  {
   "cell_type": "code",
   "execution_count": 3,
   "metadata": {},
   "outputs": [],
   "source": [
    "import numpy as np\n",
    "import matplotlib.pyplot as plt\n",
    "import gzip\n",
    "from sklearn.preprocessing import StandardScaler\n",
    "from sklearn.datasets import fetch_mldata\n",
    "from sklearn.decomposition import PCA\n",
    "from sklearn.model_selection import train_test_split\n",
    "from sklearn.decomposition import PCA\n",
    "from sklearn.linear_model import LogisticRegression"
   ]
  },
  {
   "cell_type": "markdown",
   "metadata": {},
   "source": [
    "# Download and Load the Data"
   ]
  },
  {
   "cell_type": "code",
   "execution_count": 4,
   "metadata": {},
   "outputs": [
    {
     "name": "stdout",
     "output_type": "stream",
     "text": [
      "(60000, 785)\n",
      "(10000, 785)\n"
     ]
    }
   ],
   "source": [
    "trainMnist = np.loadtxt('/Users/nikolai/Downloads/mnist_train.csv', delimiter=\",\")\n",
    "testMnist = np.loadtxt('/Users/nikolai/Downloads/mnist_test.csv', delimiter=\",\") \n",
    "print(trainMnist.shape)\n",
    "print(testMnist.shape)\n",
    "\n",
    "convert = 255  *0.99 + 0.01\n",
    "train_imgs = np.asfarray(trainMnist[:, 1:], dtype=np.int8) / convert\n",
    "test_imgs = np.asfarray(testMnist[:, 1:], dtype=np.int8) / convert\n",
    "train_labels = np.asfarray(trainMnist[:, :1], dtype=np.int8)\n",
    "test_labels = np.asfarray(testMnist[:, :1], dtype=np.int8)"
   ]
  },
  {
   "cell_type": "markdown",
   "metadata": {},
   "source": [
    "## Visualize"
   ]
  },
  {
   "cell_type": "code",
   "execution_count": 5,
   "metadata": {},
   "outputs": [
    {
     "name": "stdout",
     "output_type": "stream",
     "text": [
      "(60000, 784)\n",
      "(10000, 784)\n",
      "(60000, 1)\n",
      "(10000, 1)\n"
     ]
    },
    {
     "data": {
      "image/png": "[encoded data removed]",
      "text/plain": [
       "<Figure size 432x288 with 1 Axes>"
      ]
     },
     "metadata": {
      "needs_background": "light"
     },
     "output_type": "display_data"
    }
   ],
   "source": [
    "print(train_imgs.shape)\n",
    "print(test_imgs.shape)\n",
    "print(train_labels.shape)\n",
    "print(test_labels.shape)\n",
    "sampleImage = train_imgs[1].reshape((28,28))\n",
    "plt.imshow(sampleImage, cmap=\"Greys\")\n",
    "plt.show()"
   ]
  },
  {
   "cell_type": "markdown",
   "metadata": {},
   "source": [
    "## Standardize the data"
   ]
  },
  {
   "cell_type": "code",
   "execution_count": 6,
   "metadata": {},
   "outputs": [],
   "source": [
    "from sklearn.preprocessing import StandardScaler\n",
    "myScaler = StandardScaler()\n",
    "myScaler.fit(train_imgs)\n",
    "train_imgs = myScaler.transform(train_imgs)\n",
    "test_imgs = myScaler.transform(test_imgs)"
   ]
  },
  {
   "cell_type": "markdown",
   "metadata": {},
   "source": [
    "## Make an instance of PCA that explains 95% of variance"
   ]
  },
  {
   "cell_type": "code",
   "execution_count": 7,
   "metadata": {},
   "outputs": [],
   "source": [
    "myPca = PCA(.95)"
   ]
  },
  {
   "cell_type": "markdown",
   "metadata": {},
   "source": [
    "## Reduce the dimensionality of your data "
   ]
  },
  {
   "cell_type": "code",
   "execution_count": 8,
   "metadata": {},
   "outputs": [],
   "source": [
    "myPca.fit(train_imgs)\n",
    "myPca.n_components_\n",
    "predicted_train = myPca.fit_transform(train_imgs)\n",
    "\n",
    "prediction = myPca.inverse_transform(predicted_train)"
   ]
  },
  {
   "cell_type": "markdown",
   "metadata": {},
   "source": [
    "## Plot original image next to approximated image"
   ]
  },
  {
   "cell_type": "code",
   "execution_count": 9,
   "metadata": {},
   "outputs": [
    {
     "name": "stdout",
     "output_type": "stream",
     "text": [
      "Original Image: \n"
     ]
    },
    {
     "data": {
      "image/png": "[encoded data removed]",
      "text/plain": [
       "<Figure size 432x288 with 1 Axes>"
      ]
     },
     "metadata": {
      "needs_background": "light"
     },
     "output_type": "display_data"
    },
    {
     "name": "stdout",
     "output_type": "stream",
     "text": [
      "95% Explained Variance: \n"
     ]
    },
    {
     "data": {
      "image/png": "[encoded data removed]",
      "text/plain": [
       "<Figure size 432x288 with 1 Axes>"
      ]
     },
     "metadata": {
      "needs_background": "light"
     },
     "output_type": "display_data"
    }
   ],
   "source": [
    "print('Original Image: ')\n",
    "plt.imshow(train_imgs[1].reshape(28,28), cmap = \"Greys\");\n",
    "plt.show()\n",
    "print('95% Explained Variance: ')\n",
    "plt.imshow(prediction[1].reshape(28, 28), cmap = \"Greys\")\n",
    "plt.show()\n"
   ]
  },
  {
   "cell_type": "markdown",
   "metadata": {},
   "source": [
    "## Graph of Explained Variance vs Number of Principal Components"
   ]
  },
  {
   "cell_type": "code",
   "execution_count": 10,
   "metadata": {},
   "outputs": [
    {
     "data": {
      "image/png": "[encoded data removed]",
      "text/plain": [
       "<Figure size 720x360 with 1 Axes>"
      ]
     },
     "metadata": {
      "needs_background": "light"
     },
     "output_type": "display_data"
    }
   ],
   "source": [
    "myPca = PCA()\n",
    "myPca.fit(train_imgs)\n",
    "total = sum(myPca.explained_variance_)\n",
    "var_exp = [(i/total)*100 for i in sorted(myPca.explained_variance_, reverse=True)] \n",
    "explainedVariance = np.cumsum(var_exp)\n",
    "\n",
    "plt.figure(figsize=(10, 5))\n",
    "plt.step(range(1, 785), explainedVariance, where='mid',label='cumulative explained variance')\n",
    "plt.show()"
   ]
  },
  {
   "cell_type": "markdown",
   "metadata": {},
   "source": [
    "# Logistic Regression"
   ]
  },
  {
   "cell_type": "code",
   "execution_count": 11,
   "metadata": {},
   "outputs": [
    {
     "name": "stdout",
     "output_type": "stream",
     "text": [
      "(60000, 785)\n",
      "(10000, 785)\n"
     ]
    }
   ],
   "source": [
    "train_data = np.loadtxt('/Users/nikolai/Downloads/mnist_train.csv', delimiter=\",\")\n",
    "test_data = np.loadtxt('/Users/nikolai/Downloads/mnist_test.csv', delimiter=\",\") \n",
    "print(train_data.shape)\n",
    "print(test_data.shape)\n",
    "\n",
    "convert = 255  *0.99 + 0.01\n",
    "train_imgs = np.asfarray(train_data[:, 1:], dtype=np.int8) / convert\n",
    "test_imgs = np.asfarray(test_data[:, 1:], dtype=np.int8) / convert\n",
    "train_labels = np.asfarray(train_data[:, :1], dtype=np.int8)\n",
    "test_labels = np.asfarray(test_data[:, :1], dtype=np.int8)"
   ]
  },
  {
   "cell_type": "code",
   "execution_count": 12,
   "metadata": {},
   "outputs": [],
   "source": [
    "idx = 0\n",
    "for i in np.nditer(train_labels):\n",
    "    idx += 1\n",
    "    if i == 0.0:\n",
    "        train_labels[idx-1] = 1\n",
    "    else:\n",
    "        train_labels[idx-1] = 0\n",
    "\n",
    "idx = 0\n",
    "for i in np.nditer(test_labels):\n",
    "    idx += 1\n",
    "    if i == 0.0:\n",
    "        test_labels[idx-1] = 1\n",
    "    else:\n",
    "        test_labels[idx-1] = 0"
   ]
  },
  {
   "cell_type": "code",
   "execution_count": 13,
   "metadata": {},
   "outputs": [
    {
     "name": "stdout",
     "output_type": "stream",
     "text": [
      "Logistic regression without PCA:\n"
     ]
    },
    {
     "name": "stderr",
     "output_type": "stream",
     "text": [
      "/Library/Frameworks/Python.framework/Versions/3.7/lib/python3.7/site-packages/sklearn/linear_model/logistic.py:433: FutureWarning: Default solver will be changed to 'lbfgs' in 0.22. Specify a solver to silence this warning.\n",
      "  FutureWarning)\n"
     ]
    },
    {
     "data": {
      "text/plain": [
       "0.9922"
      ]
     },
     "execution_count": 13,
     "metadata": {},
     "output_type": "execute_result"
    }
   ],
   "source": [
    "print('Logistic regression without PCA:')\n",
    "y = train_labels.ravel()\n",
    "train_labels = np.array(y).astype(int)\n",
    "myLR = LogisticRegression()\n",
    "myLR.fit(train_imgs, train_labels)\n",
    "myLR.predict(test_imgs[0].reshape(1,-1))\n",
    "myLR.score(test_imgs, test_labels)"
   ]
  },
  {
   "cell_type": "code",
   "execution_count": 14,
   "metadata": {},
   "outputs": [],
   "source": [
    "myScaler = StandardScaler()\n",
    "myScaler.fit(train_imgs)\n",
    "train_imgs = myScaler.transform(train_imgs)\n",
    "test_imgs = myScaler.transform(test_imgs)\n",
    "\n",
    "myPca = PCA(.95)\n",
    "\n",
    "myPca.fit(train_imgs)\n",
    "myPca.n_components_\n",
    "predicted_train = myPca.fit_transform(train_imgs)\n",
    "\n",
    "prediction = myPca.inverse_transform(predicted_train)"
   ]
  },
  {
   "cell_type": "code",
   "execution_count": 15,
   "metadata": {},
   "outputs": [
    {
     "name": "stdout",
     "output_type": "stream",
     "text": [
      "Logistic regression with PCA:\n"
     ]
    },
    {
     "name": "stderr",
     "output_type": "stream",
     "text": [
      "/Library/Frameworks/Python.framework/Versions/3.7/lib/python3.7/site-packages/sklearn/linear_model/logistic.py:433: FutureWarning: Default solver will be changed to 'lbfgs' in 0.22. Specify a solver to silence this warning.\n",
      "  FutureWarning)\n"
     ]
    },
    {
     "data": {
      "text/plain": [
       "0.991"
      ]
     },
     "execution_count": 15,
     "metadata": {},
     "output_type": "execute_result"
    }
   ],
   "source": [
    "print('Logistic regression with PCA:')\n",
    "y = train_labels.ravel()\n",
    "train_labels = np.array(y).astype(int)\n",
    "myLR = LogisticRegression()\n",
    "myLR.fit(train_imgs, train_labels)\n",
    "myLR.predict(test_imgs[0].reshape(1,-1))\n",
    "myLR.score(test_imgs, test_labels)"
   ]
  },
  {
   "cell_type": "markdown",
   "metadata": {},
   "source": [
    "It appears that the original logistic regression without PCA is more accurate."
   ]
  }
 ],
 "metadata": {
  "kernelspec": {
   "display_name": "Python 3",
   "language": "python",
   "name": "python3"
  },
  "language_info": {
   "codemirror_mode": {
    "name": "ipython",
    "version": 3
   },
   "file_extension": ".py",
   "mimetype": "text/x-python",
   "name": "python",
   "nbconvert_exporter": "python",
   "pygments_lexer": "ipython3",
   "version": "3.7.1"
  }
 },
 "nbformat": 4,
 "nbformat_minor": 2
}
