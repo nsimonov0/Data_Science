{
 "cells": [
  {
   "cell_type": "code",
   "execution_count": 16,
   "metadata": {},
   "outputs": [],
   "source": [
    "import numpy as np\n",
    "from sklearn.model_selection import cross_val_score\n",
    "import pandas as pd\n",
    "from sklearn import neighbors, datasets\n",
    "from sklearn.model_selection import train_test_split\n",
    "import matplotlib\n",
    "from sklearn.neighbors import KNeighborsClassifier\n",
    "from sklearn.metrics import accuracy_score as accuracy\n",
    "from sklearn.linear_model import LogisticRegression\n",
    "from sklearn import metrics"
   ]
  },
  {
   "cell_type": "code",
   "execution_count": 17,
   "metadata": {},
   "outputs": [
    {
     "name": "stdout",
     "output_type": "stream",
     "text": [
      "    sex  age   Time  Number_of_Warts  Type  Area  Result_of_Treatment\n",
      "0     1   35  12.00                5     1   100                    0\n",
      "1     1   29   7.00                5     1    96                    1\n",
      "2     1   50   8.00                1     3   132                    0\n",
      "3     1   32  11.75                7     3   750                    0\n",
      "4     1   67   9.25                1     1    42                    0\n",
      "5     1   41   8.00                2     2    20                    1\n",
      "6     1   36  11.00                2     1     8                    0\n",
      "7     1   59   3.50                3     3    20                    0\n",
      "8     1   20   4.50               12     1     6                    1\n",
      "9     2   34  11.25                3     3   150                    0\n",
      "10    2   21  10.75                5     1    35                    0\n",
      "11    2   15   6.00                2     1    30                    1\n",
      "12    2   15   2.00                3     1     4                    1\n",
      "13    2   15   3.75                2     3    70                    1\n",
      "14    2   17  11.00                2     1    10                    0\n",
      "15    2   17   5.25                3     1    63                    1\n",
      "16    2   23  11.75               12     3    72                    0\n",
      "17    2   27   8.75                2     1     6                    0\n",
      "18    2   15   4.25                1     1     6                    1\n",
      "19    2   18   5.75                1     1    80                    1\n",
      "20    1   22   5.50                2     1    70                    1\n",
      "21    2   16   8.50                1     2    60                    1\n",
      "22    1   28   4.75                3     1   100                    1\n",
      "23    2   40   9.75                1     2    80                    0\n",
      "24    1   30   2.50                2     1   115                    1\n",
      "25    2   34  12.00                3     3    95                    0\n",
      "26    1   20   0.50                2     1    75                    1\n",
      "27    2   35  12.00                5     3   100                    0\n",
      "28    2   24   9.50                3     3    20                    0\n",
      "29    2   19   8.75                6     1   160                    1\n",
      "..  ...  ...    ...              ...   ...   ...                  ...\n",
      "60    1   35   7.25                2     1   100                    1\n",
      "61    1   29  11.75                5     1    96                    0\n",
      "62    2   50   9.50                4     3   132                    0\n",
      "63    2   32  12.00               12     3   750                    0\n",
      "64    1   67  10.00                7     1    42                    0\n",
      "65    2   41   7.75                5     2    20                    1\n",
      "66    2   36  10.50                4     1     8                    0\n",
      "67    1   67   3.75               11     3    20                    0\n",
      "68    1   20   4.00                3     1     6                    1\n",
      "69    1   34  11.25                1     3   150                    0\n",
      "70    2   21  10.75                7     1    35                    0\n",
      "71    1   15  10.50               11     1    30                    1\n",
      "72    1   15   2.00               11     1     4                    1\n",
      "73    2   15   2.00               10     3    70                    1\n",
      "74    1   17   9.25               12     1    10                    0\n",
      "75    1   17   5.75               10     1    63                    1\n",
      "76    1   23  10.25                7     3    72                    0\n",
      "77    1   27  10.50                7     1     6                    0\n",
      "78    1   15   5.50                5     1     6                    1\n",
      "79    1   18   4.00                1     1    80                    1\n",
      "80    2   22   4.50                2     1    70                    1\n",
      "81    1   16  11.00                3     2    60                    1\n",
      "82    2   28   5.00                9     1   100                    1\n",
      "83    1   40  11.50                9     2    80                    0\n",
      "84    1   30   0.25               10     1   115                    1\n",
      "85    2   34  12.00                3     3    95                    0\n",
      "86    2   20   3.50                6     1    75                    1\n",
      "87    2   35   8.25                8     3   100                    0\n",
      "88    1   24  10.75               10     1    20                    1\n",
      "89    1   19   8.00                8     1   160                    1\n",
      "\n",
      "[90 rows x 7 columns]\n"
     ]
    }
   ],
   "source": [
    "myPatient = pd.read_excel(\"/Users/nikolai/Downloads/Cryo.xlsx\")\n",
    "myPatient = myPatient.dropna()\n",
    "print(myPatient)\n",
    "X = (myPatient.iloc[:,0:6])\n",
    "y = (myPatient.iloc[:,6:7])\n",
    "y = np.ravel(y)"
   ]
  },
  {
   "cell_type": "markdown",
   "metadata": {},
   "source": [
    "The dataset I am using is concerned with the use and success rate of cryotherapy. The dataset has 90 instances and 7 attributes. The six features I am using represent the sex of the patient(sex), the patient age(age), the time the patient has had a wart(time), the number of warts a patient has(Number_Of_Warts), the type of wart a patient has(type) and lastly the area of the wart(area). The target variable is the result of treatment. 1 means it was treated successfully and 0 means it was not. "
   ]
  },
  {
   "cell_type": "code",
   "execution_count": 18,
   "metadata": {},
   "outputs": [
    {
     "data": {
      "text/plain": [
       "0.5333333333333333"
      ]
     },
     "execution_count": 18,
     "metadata": {},
     "output_type": "execute_result"
    }
   ],
   "source": [
    "y.mean()"
   ]
  },
  {
   "cell_type": "code",
   "execution_count": 19,
   "metadata": {},
   "outputs": [
    {
     "name": "stdout",
     "output_type": "stream",
     "text": [
      "(63, 6)\n",
      "(63,)\n",
      "(18, 6)\n",
      "(9, 6)\n",
      "(18,)\n",
      "(9,)\n"
     ]
    }
   ],
   "source": [
    "x_train, x_test, y_train, y_test = train_test_split(X, y, test_size = .3)\n",
    "x_test, x_val, y_test, y_val = train_test_split(x_test, y_test, test_size=0.66)\n",
    "print(x_train.shape)\n",
    "print(y_train.shape)\n",
    "print(x_val.shape)\n",
    "print(x_test.shape)\n",
    "print(y_val.shape)\n",
    "print(y_test.shape)"
   ]
  },
  {
   "cell_type": "code",
   "execution_count": 20,
   "metadata": {},
   "outputs": [
    {
     "name": "stdout",
     "output_type": "stream",
     "text": [
      "[1 1 1 0 0 0 1 0 0]\n",
      "[[0.26641324 0.73358676]\n",
      " [0.28679171 0.71320829]\n",
      " [0.09626786 0.90373214]\n",
      " [0.98970719 0.01029281]\n",
      " [0.89589414 0.10410586]\n",
      " [0.90792356 0.09207644]\n",
      " [0.0275083  0.9724917 ]\n",
      " [0.96619882 0.03380118]\n",
      " [0.50819054 0.49180946]]\n"
     ]
    },
    {
     "name": "stderr",
     "output_type": "stream",
     "text": [
      "/Library/Frameworks/Python.framework/Versions/3.7/lib/python3.7/site-packages/sklearn/linear_model/logistic.py:433: FutureWarning: Default solver will be changed to 'lbfgs' in 0.22. Specify a solver to silence this warning.\n",
      "  FutureWarning)\n"
     ]
    }
   ],
   "source": [
    "model2 = LogisticRegression()\n",
    "model2.fit(x_train, y_train)\n",
    "\n",
    "predicted = model2.predict(x_test)\n",
    "print (predicted)\n",
    "\n",
    "probs = model2.predict_proba(x_test)\n",
    "print (probs)"
   ]
  },
  {
   "cell_type": "code",
   "execution_count": 21,
   "metadata": {},
   "outputs": [
    {
     "name": "stdout",
     "output_type": "stream",
     "text": [
      "\n",
      "\n",
      "Testing:\n",
      "Correct answers: \n",
      "[1 1 1 0 0 1 1 0 1]\n",
      "Predicted answers: \n",
      "[1 1 1 0 0 0 1 0 0]\n",
      "\n",
      "\n",
      "Test Accuracy Score: \n",
      "0.7777777777777778\n",
      "\n",
      "\n",
      "Intercept(θ0): \n",
      "[2.55050845]\n",
      "\n",
      "\n",
      "Parameters(θ1, θ2, θ3, θ4, θ5, θ6): \n",
      "[[0.7433637893722799, -0.03819202822582429, -0.3942210253866408, 0.2588852692694628, -0.7196870070402678, 0.00046347722160924474]]\n"
     ]
    }
   ],
   "source": [
    " #generate evaluation metrics\n",
    "#print(probs[:, 1])\n",
    "#print('Validation:')\n",
    "#print('Correct answers:')\n",
    "#print(y_val)\n",
    "#print('Predicted answers:')\n",
    "#print(predictedValidation)\n",
    "print('\\n')\n",
    "print('Testing:')\n",
    "print('Correct answers: ')\n",
    "print(y_test)\n",
    "print('Predicted answers: ')\n",
    "print(predicted)\n",
    "print('\\n')\n",
    "print('Test Accuracy Score: ')\n",
    "print (metrics.accuracy_score(y_test, predicted))\n",
    "print('\\n')\n",
    "#print (metrics.roc_auc_score(y_test, probs[:, 1]))\n",
    "thetazero = model2.intercept_\n",
    "print('Intercept(θ0): ')\n",
    "print(thetazero)\n",
    "print('\\n')\n",
    "parameters = model2.coef_\n",
    "parameters = parameters.tolist()\n",
    "print('Parameters(θ1, θ2, θ3, θ4, θ5, θ6): ')\n",
    "print(parameters)"
   ]
  },
  {
   "cell_type": "markdown",
   "metadata": {},
   "source": [
    "The given parameters are the weights associated with each of the features in the data set. We use these coefficents to generate predicted probabilities. We see that an X increase/decrease of θ results in the odds of Y increasing/decreasing by X. We can then convert odds into probability. We see that θ2, θ3, and θ5 are negative values. This means that a higher value in features of 'Type', 'Time', or 'Age' will push the classification of 'Result_Of_Treatment' to 0."
   ]
  }
 ],
 "metadata": {
  "kernelspec": {
   "display_name": "Python 3",
   "language": "python",
   "name": "python3"
  },
  "language_info": {
   "codemirror_mode": {
    "name": "ipython",
    "version": 3
   },
   "file_extension": ".py",
   "mimetype": "text/x-python",
   "name": "python",
   "nbconvert_exporter": "python",
   "pygments_lexer": "ipython3",
   "version": "3.7.1"
  }
 },
 "nbformat": 4,
 "nbformat_minor": 2
}
